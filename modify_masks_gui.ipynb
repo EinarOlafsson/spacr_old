{
 "cells": [
  {
   "cell_type": "code",
   "execution_count": null,
   "id": "800a4c59",
   "metadata": {},
   "outputs": [],
   "source": [
    "import requests\n",
    "url2 = 'https://raw.githubusercontent.com/EinarOlafsson/spacr/main/spacr_modify_masks_gui.py'\n",
    "response2 = requests.get(url2)\n",
    "with open('spacr_modify_masks_gui.py', 'w') as file:\n",
    "    file.write(response2.text)\n",
    "import spacr_modify_masks_gui as spacr"
   ]
  },
  {
   "cell_type": "code",
   "execution_count": null,
   "id": "658aa8e1",
   "metadata": {},
   "outputs": [],
   "source": [
    "# Paths to your image and mask (optional) directories\n",
    "img_src = 'path' # use // in windows\n",
    "mask_src = None# 'path' or None\n",
    "\n",
    "spacr.modify_masks(img_src, \n",
    "                   mask_src,\n",
    "                   rescale_factor=0.1)"
   ]
  }
 ],
 "metadata": {
  "kernelspec": {
   "display_name": "Python 3 (ipykernel)",
   "language": "python",
   "name": "python3"
  },
  "language_info": {
   "codemirror_mode": {
    "name": "ipython",
    "version": 3
   },
   "file_extension": ".py",
   "mimetype": "text/x-python",
   "name": "python",
   "nbconvert_exporter": "python",
   "pygments_lexer": "ipython3",
   "version": "3.9.18"
  }
 },
 "nbformat": 4,
 "nbformat_minor": 5
}
