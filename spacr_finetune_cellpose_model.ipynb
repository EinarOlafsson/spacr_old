{
 "cells": [
  {
   "cell_type": "code",
   "execution_count": null,
   "id": "78954dc8",
   "metadata": {},
   "outputs": [],
   "source": [
    "import requests\n",
    "\n",
    "url = 'https://raw.githubusercontent.com/EinarOlafsson/spacr/main/spacr_retrain_finetune.py'\n",
    "response = requests.get(url)\n",
    "with open('spacr_finetune_cellpose.py', 'w') as file:\n",
    "    file.write(response.text)\n",
    "    \n",
    "import finetune_cellpose"
   ]
  },
  {
   "cell_type": "code",
   "execution_count": null,
   "id": "e2f2ee64",
   "metadata": {},
   "outputs": [],
   "source": [
    "src = 'path'\n",
    "model_name = 'cyto'\n",
    "channels = [0,0]\n",
    "diameter = 30.0\n",
    "\n",
    "generate_cp_masks(src, model_name, channels, diameter, flow_threshold=30, cellprob_threshold=1, figuresize=25, cmap='inferno', verbose=False, plot=False, save=False):"
   ]
  },
  {
   "cell_type": "code",
   "execution_count": null,
   "id": "d06348fe",
   "metadata": {},
   "outputs": [],
   "source": [
    "import requests\n",
    "\n",
    "url = 'https://raw.githubusercontent.com/EinarOlafsson/spacr/main/spacr_modify_masks_gui.py'\n",
    "response = requests.get(url)\n",
    "with open('spacr_modify_masks_gui.py', 'w') as file:\n",
    "    file.write(response.text)\n",
    "    \n",
    "import modify_masks_gui"
   ]
  },
  {
   "cell_type": "code",
   "execution_count": null,
   "id": "3184de0b",
   "metadata": {},
   "outputs": [],
   "source": [
    "img_src = 'path'\n",
    "mask_src = 'path'\n",
    "\n",
    "modify_masks(img_src, mask_src)"
   ]
  },
  {
   "cell_type": "code",
   "execution_count": null,
   "id": "c5aa249c",
   "metadata": {},
   "outputs": [],
   "source": [
    "# import finetune_cellpose \n",
    "# Paths to your image and mask directories\n",
    "img_src = 'path'\n",
    "mask_src = 'path'\n",
    "\n",
    "# Train the model\n",
    "train_cellpose(img_src, mask_src)"
   ]
  }
 ],
 "metadata": {
  "kernelspec": {
   "display_name": "spacr",
   "language": "python",
   "name": "spacr"
  },
  "language_info": {
   "codemirror_mode": {
    "name": "ipython",
    "version": 3
   },
   "file_extension": ".py",
   "mimetype": "text/x-python",
   "name": "python",
   "nbconvert_exporter": "python",
   "pygments_lexer": "ipython3",
   "version": "3.9.18"
  }
 },
 "nbformat": 4,
 "nbformat_minor": 5
}
