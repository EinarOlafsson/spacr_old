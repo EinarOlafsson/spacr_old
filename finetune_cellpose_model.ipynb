{
 "cells": [
  {
   "cell_type": "code",
   "execution_count": null,
   "id": "e0ab70c9",
   "metadata": {
    "scrolled": false
   },
   "outputs": [],
   "source": [
    "import requests\n",
    "url1 = 'https://raw.githubusercontent.com/EinarOlafsson/spacr/main/code/spacr_finetune_cellpose.py'\n",
    "response1 = requests.get(url1)\n",
    "with open('spacr_finetune_cellpose.py', 'w') as file:\n",
    "    file.write(response1.text)\n",
    "import spacr_finetune_cellpose as spacr"
   ]
  },
  {
   "cell_type": "code",
   "execution_count": null,
   "id": "2e3e6f79",
   "metadata": {},
   "outputs": [],
   "source": [
    "# Paths to your image directory\n",
    "src = 'path'\n",
    "spacr.generate_cp_masks(src,\n",
    "                        model_name='cyto',\n",
    "                        channels=[0,0],\n",
    "                        diameter=200.0,\n",
    "                        regex='Plate',\n",
    "                        flow_threshold=30,\n",
    "                        cellprob_threshold=0,\n",
    "                        figuresize=25,\n",
    "                        cmap='inferno',\n",
    "                        verbose=False,\n",
    "                        plot=True,\n",
    "                        save=False)"
   ]
  },
  {
   "cell_type": "code",
   "execution_count": null,
   "id": "dd35efb4",
   "metadata": {},
   "outputs": [],
   "source": [
    "# Paths to your image and mask directories\n",
    "img_src = 'path'\n",
    "mask_src = 'path'\n",
    "\n",
    "# Train the model\n",
    "spacr2.train_cellpose(img_src,\n",
    "                      mask_src,\n",
    "                      model_name='toxopv',\n",
    "                      model_type='cyto',\n",
    "                      nchan=2,\n",
    "                      channels=[0, 0],\n",
    "                      learning_rate=0.2,\n",
    "                      weight_decay=1e-05,\n",
    "                      batch_size=8, \n",
    "                      n_epochs=500)"
   ]
  }
 ],
 "metadata": {
  "kernelspec": {
   "display_name": "Python 3 (ipykernel)",
   "language": "python",
   "name": "python3"
  },
  "language_info": {
   "codemirror_mode": {
    "name": "ipython",
    "version": 3
   },
   "file_extension": ".py",
   "mimetype": "text/x-python",
   "name": "python",
   "nbconvert_exporter": "python",
   "pygments_lexer": "ipython3",
   "version": "3.10.9"
  }
 },
 "nbformat": 4,
 "nbformat_minor": 5
}
