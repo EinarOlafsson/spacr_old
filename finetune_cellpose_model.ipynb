{
 "cells": [
  {
   "cell_type": "code",
   "execution_count": null,
   "id": "e0ab70c9",
   "metadata": {},
   "outputs": [],
   "source": [
    "import requests\n",
    "\n",
    "url = 'https://raw.githubusercontent.com/EinarOlafsson/spacr/main/spacr_finetune_cellpose.py'\n",
    "response = requests.get(url)\n",
    "with open('spacr_finetune_cellpose.py', 'w') as file:\n",
    "    file.write(response.text)\n",
    "    \n",
    "import spacr_finetune_cellpose as spacr"
   ]
  },
  {
   "cell_type": "code",
   "execution_count": null,
   "id": "2e3e6f79",
   "metadata": {},
   "outputs": [],
   "source": [
    "src = 'path'\n",
    "model_name = 'cyto'\n",
    "channels = [0,0]\n",
    "diameter = 30.0\n",
    "\n",
    "spacr.generate_cp_masks(src, model_name, channels, diameter, flow_threshold=30, cellprob_threshold=1, figuresize=25, cmap='inferno', verbose=False, plot=False, save=False):"
   ]
  },
  {
   "cell_type": "code",
   "execution_count": null,
   "id": "459c6093",
   "metadata": {},
   "outputs": [],
   "source": [
    "import requests\n",
    "\n",
    "url = 'https://raw.githubusercontent.com/EinarOlafsson/spacr/main/spacr_modify_masks_gui.py'\n",
    "response = requests.get(url)\n",
    "with open('spacr_modify_masks_gui.py', 'w') as file:\n",
    "    file.write(response.text)\n",
    "    \n",
    "import spacr_modify_masks_gui as spacr"
   ]
  },
  {
   "cell_type": "code",
   "execution_count": null,
   "id": "db5c6daf",
   "metadata": {},
   "outputs": [],
   "source": [
    "# Paths to your image and mask directories\n",
    "img_src = 'path'\n",
    "mask_src = 'path'\n",
    "\n",
    "%matplotlib qt\n",
    "import matplotlib.pyplot as plt\n",
    "global save_clicked\n",
    "save_clicked = False\n",
    "\n",
    "spacr.modify_masks(img_src, mask_src)"
   ]
  },
  {
   "cell_type": "code",
   "execution_count": null,
   "id": "dd35efb4",
   "metadata": {},
   "outputs": [],
   "source": [
    "# import spacr_finetune_cellpose\n",
    "# Paths to your image and mask directories\n",
    "img_src = 'path'\n",
    "mask_src = 'path'\n",
    "\n",
    "# Train the model\n",
    "spacr.train_cellpose(img_src, mask_src)"
   ]
  }
 ],
 "metadata": {
  "kernelspec": {
   "display_name": "spacr",
   "language": "python",
   "name": "spacr"
  },
  "language_info": {
   "codemirror_mode": {
    "name": "ipython",
    "version": 3
   },
   "file_extension": ".py",
   "mimetype": "text/x-python",
   "name": "python",
   "nbconvert_exporter": "python",
   "pygments_lexer": "ipython3",
   "version": "3.9.18"
  }
 },
 "nbformat": 4,
 "nbformat_minor": 5
}
