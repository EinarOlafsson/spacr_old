{
 "cells": [
  {
   "cell_type": "code",
   "execution_count": null,
   "id": "e0ab70c9",
   "metadata": {},
   "outputs": [],
   "source": [
    "import requests\n",
    "\n",
    "url1 = 'https://raw.githubusercontent.com/EinarOlafsson/spacr/main/spacr_finetune_cellpose.py'\n",
    "response1 = requests.get(url1)\n",
    "with open('spacr_finetune_cellpose.py', 'w') as file:\n",
    "    file.write(response1.text)\n",
    "import spacr_finetune_cellpose as spacr\n",
    "\n",
    "url2 = 'https://raw.githubusercontent.com/EinarOlafsson/spacr/main/spacr_modify_masks_gui.py'\n",
    "response2 = requests.get(url2)\n",
    "with open('spacr_modify_masks_gui.py', 'w') as file:\n",
    "    file.write(response2.text)\n",
    "import spacr_modify_masks_gui as spacr2"
   ]
  },
  {
   "cell_type": "code",
   "execution_count": null,
   "id": "2e3e6f79",
   "metadata": {
    "scrolled": false
   },
   "outputs": [],
   "source": [
    "# Paths to your image directory\n",
    "src = 'path'\n",
    "spacr.generate_cp_masks(src,\n",
    "                        model_name='cyto',\n",
    "                        channels=[0,0],\n",
    "                        diameter=200.0,\n",
    "                        regex='Plate',\n",
    "                        flow_threshold=30,\n",
    "                        cellprob_threshold=0,\n",
    "                        figuresize=25,\n",
    "                        cmap='inferno',\n",
    "                        verbose=False,\n",
    "                        plot=True,\n",
    "                        save=False)"
   ]
  },
  {
   "cell_type": "code",
   "execution_count": null,
   "id": "db5c6daf",
   "metadata": {},
   "outputs": [],
   "source": [
    "# Paths to your image and mask (optional) directories\n",
    "img_src = 'path'\n",
    "mask_src = 'path' or None\n",
    "\n",
    "spacr2.modify_masks(img_src, \n",
    "                    mask_src,\n",
    "                    rescale_factor=0.1)"
   ]
  },
  {
   "cell_type": "code",
   "execution_count": null,
   "id": "dd35efb4",
   "metadata": {},
   "outputs": [],
   "source": [
    "# Paths to your image and mask directories\n",
    "img_src = 'path'\n",
    "mask_src = 'path'\n",
    "\n",
    "# Train the model\n",
    "spacr2.train_cellpose(img_src,\n",
    "                      mask_src,\n",
    "                      model_name='toxopv',\n",
    "                      model_type='cyto',\n",
    "                      nchan=2,\n",
    "                      channels=[0, 0],\n",
    "                      learning_rate=0.2,\n",
    "                      weight_decay=1e-05,\n",
    "                      batch_size=8, \n",
    "                      n_epochs=500)"
   ]
  }
 ],
 "metadata": {
  "kernelspec": {
   "display_name": "spacr",
   "language": "python",
   "name": "spacr"
  },
  "language_info": {
   "codemirror_mode": {
    "name": "ipython",
    "version": 3
   },
   "file_extension": ".py",
   "mimetype": "text/x-python",
   "name": "python",
   "nbconvert_exporter": "python",
   "pygments_lexer": "ipython3",
   "version": "3.9.18"
  }
 },
 "nbformat": 4,
 "nbformat_minor": 5
}
