{
 "cells": [
  {
   "cell_type": "code",
   "execution_count": null,
   "id": "ae6a229a",
   "metadata": {},
   "outputs": [],
   "source": [
    "import requests\n",
    "\n",
    "url = 'https://raw.githubusercontent.com/EinarOlafsson/spacr/main/spacr_simulation.py'\n",
    "response = requests.get(url)\n",
    "with open('spacr_simulation.py', 'w') as file:\n",
    "    file.write(response.text)\n",
    "    \n",
    "import spacr_simulation as spacr"
   ]
  },
  {
   "cell_type": "code",
   "execution_count": null,
   "id": "0862d8a2",
   "metadata": {},
   "outputs": [],
   "source": [
    "#lopp over most variables\n",
    "avg_genes_per_well_ls = [10] #5 [5]\n",
    "avg_cells_per_well_ls = [100] #4 [200]\n",
    "positive_mean_ls = [0.8] #4 [0.8]\n",
    "avg_reads_per_gene_ls = [1000] #2 [1000]\n",
    "sequencing_error_ls = [0.02] #3 [0.01]\n",
    "well_ineq_coeff_ls = [0.3] #4 [0.2] lower mean more inequality\n",
    "gene_ineq_coeff_ls = [0.8] #4 [0.2]\n",
    "nr_plates_ls = [8] \n",
    "number_of_genes_ls = [1384] # [2000,4000,8000] \n",
    "number_of_active_genes_ls = [8] #[10]\n",
    "replicates = 1\n",
    "\n",
    "settings = {\n",
    "    'name':'plates_2_4_8',\n",
    "    'variable':'all',\n",
    "    'src': '/media/olafsson/Data2/simulation2',\n",
    "    'plot': True,\n",
    "    'random_seed': False,\n",
    "    'nr_plates': nr_plates_ls,\n",
    "    'number_of_genes': number_of_genes_ls,\n",
    "    'number_of_active_genes': number_of_active_genes_ls,\n",
    "    'number_of_control_genes': 30,\n",
    "    'avg_genes_per_well': avg_genes_per_well_ls,\n",
    "    'avg_cells_per_well': avg_cells_per_well_ls,\n",
    "    'positive_mean': positive_mean_ls,\n",
    "    'avg_reads_per_gene': avg_reads_per_gene_ls,\n",
    "    'sequencing_error': sequencing_error_ls,\n",
    "    'well_ineq_coeff': well_ineq_coeff_ls,\n",
    "    'gene_ineq_coeff': gene_ineq_coeff_ls,\n",
    "    'max_workers': 1}\n",
    "\n",
    "sim_ls = generate_paramiters(settings)\n",
    "max_workers = settings['max_workers'] or cpu_count() - 4\n",
    "with Manager() as manager:\n",
    "    time_ls = manager.list()\n",
    "    total_sims = len(sim_ls)\n",
    "    with Pool(max_workers) as pool:\n",
    "        result = pool.starmap_async(spacr.run_and_save, [(index, settings, time_ls, total_sims) for index, settings in enumerate(sim_ls)])\n",
    "        while not result.ready():\n",
    "            sleep(0.01)\n",
    "            sims_processed = len(time_ls)\n",
    "            average_time = np.mean(time_ls) if len(time_ls) > 0 else 0\n",
    "            time_left = (((total_sims-sims_processed)*average_time)/max_workers)/60\n",
    "            print(f'Progress: {sims_processed}/{total_sims} Time/simulation {average_time:.3f}sec Time Remaining {time_left:.3f} min.', end='\\r', flush=True)\n",
    "        result.get()"
   ]
  }
 ],
 "metadata": {
  "kernelspec": {
   "display_name": "spacr",
   "language": "python",
   "name": "spacr"
  },
  "language_info": {
   "codemirror_mode": {
    "name": "ipython",
    "version": 3
   },
   "file_extension": ".py",
   "mimetype": "text/x-python",
   "name": "python",
   "nbconvert_exporter": "python",
   "pygments_lexer": "ipython3",
   "version": "3.9.18"
  }
 },
 "nbformat": 4,
 "nbformat_minor": 5
}
