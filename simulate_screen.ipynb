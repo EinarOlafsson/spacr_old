{
 "cells": [
  {
   "cell_type": "code",
   "execution_count": null,
   "id": "ae6a229a",
   "metadata": {},
   "outputs": [],
   "source": [
    "import requests\n",
    "\n",
    "url = 'https://raw.githubusercontent.com/EinarOlafsson/spacr/main/spacr_simulation.py'\n",
    "response = requests.get(url)\n",
    "with open('spacr_simulation.py', 'w') as file:\n",
    "    file.write(response.text)\n",
    "    \n",
    "import spacr_simulation as spacr"
   ]
  },
  {
   "cell_type": "code",
   "execution_count": null,
   "id": "e22521ff",
   "metadata": {
    "scrolled": false
   },
   "outputs": [],
   "source": [
    "#For 1 simulation\n",
    "settings = {\n",
    "    'name':'test',\n",
    "    'variable':'none',\n",
    "    'src': 'path',\n",
    "    'plot': True,\n",
    "    'random_seed': True,\n",
    "    'nr_plates': 4,\n",
    "    'number_of_genes': 100,\n",
    "    'number_of_active_genes': 10,\n",
    "    'number_of_control_genes': 10,\n",
    "    'avg_genes_per_well': 5,\n",
    "    'sd_genes_per_well':2,\n",
    "    'avg_cells_per_well': 100,\n",
    "    'sd_cells_per_well':50,\n",
    "    'positive_mean': 0.8,\n",
    "    'positive_variance':0.15,\n",
    "    'negative_mean':0.2,\n",
    "    'negative_variance':0.15,\n",
    "    'avg_reads_per_gene': 1000,\n",
    "    'sd_reads_per_gene':500,\n",
    "    'sequencing_error': 0.1,\n",
    "    'well_ineq_coeff': 0.5,\n",
    "    'gene_ineq_coeff': 0.1,\n",
    "    'max_workers': 25}\n",
    "\n",
    "i=1\n",
    "spacr.run_and_save(i, settings, time_ls=[1], total_sims=1)"
   ]
  },
  {
   "cell_type": "code",
   "execution_count": null,
   "id": "ce76f2b1",
   "metadata": {},
   "outputs": [],
   "source": [
    "#For multiple simulation\n",
    "\n",
    "#lopp over most variables\n",
    "avg_genes_per_well_ls = [10]\n",
    "avg_cells_per_well_ls = [100]\n",
    "positive_mean_ls = [0.8]\n",
    "avg_reads_per_gene_ls = [1000]\n",
    "sequencing_error_ls = [0.01]\n",
    "well_ineq_coeff_ls = [0.3] #lower mean more inequality (0-1)\n",
    "gene_ineq_coeff_ls = [0.8] \n",
    "nr_plates_ls = [8] \n",
    "number_of_genes_ls = [1384]\n",
    "number_of_active_genes_ls = [8]\n",
    "\n",
    "settings = {\n",
    "    'name':'plates_2_4_8',\n",
    "    'variable':'all',\n",
    "    'src': 'path',\n",
    "    'plot': True,\n",
    "    'random_seed': False,\n",
    "    'replicates':2,\n",
    "    'nr_plates': nr_plates_ls,\n",
    "    'number_of_genes': number_of_genes_ls,\n",
    "    'number_of_active_genes': number_of_active_genes_ls,\n",
    "    'number_of_control_genes': 30,\n",
    "    'avg_genes_per_well': avg_genes_per_well_ls,\n",
    "    'avg_cells_per_well': avg_cells_per_well_ls,\n",
    "    'positive_mean': positive_mean_ls,\n",
    "    'avg_reads_per_gene': avg_reads_per_gene_ls,\n",
    "    'sequencing_error': sequencing_error_ls,\n",
    "    'well_ineq_coeff': well_ineq_coeff_ls,\n",
    "    'gene_ineq_coeff': gene_ineq_coeff_ls,\n",
    "    'max_workers': 25}\n",
    "\n",
    "spacr.run_multiple_simulations(settings)"
   ]
  }
 ],
 "metadata": {
  "kernelspec": {
   "display_name": "spacr",
   "language": "python",
   "name": "spacr"
  },
  "language_info": {
   "codemirror_mode": {
    "name": "ipython",
    "version": 3
   },
   "file_extension": ".py",
   "mimetype": "text/x-python",
   "name": "python",
   "nbconvert_exporter": "python",
   "pygments_lexer": "ipython3",
   "version": "3.9.18"
  }
 },
 "nbformat": 4,
 "nbformat_minor": 5
}
