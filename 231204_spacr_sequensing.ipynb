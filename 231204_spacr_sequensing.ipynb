

{
 "cells": [
  {
   "cell_type": "code",
   "execution_count": null,
   "id": "9b538c78",
   "metadata": {},
   "outputs": [],
   "source": [
    "seq_0 = pd.read_csv('/media/olafsson/Jupyter1/sequencing/sequencing_working_split_0.csv')\n",
    "seq_1 = pd.read_csv('/media/olafsson/Jupyter1/sequencing/sequencing_working_split_1.csv')\n",
    "seq_2 = pd.read_csv('/media/olafsson/Jupyter1/sequencing/sequencing_working_split_2.csv')\n",
    "seq_3 = pd.read_csv('/media/olafsson/Jupyter1/sequencing/sequencing_working_split_3.csv')\n",
    "seq_4 = pd.read_csv('/media/olafsson/Jupyter1/sequencing/sequencing_working_split_4.csv')\n",
    "seq_5 = pd.read_csv('/media/olafsson/Jupyter1/sequencing/sequencing_working_split_5.csv')\n",
    "seq_6 = pd.read_csv('/media/olafsson/Jupyter1/sequencing/sequencing_working_split_6.csv')\n",
    "seq_7 = pd.read_csv('/media/olafsson/Jupyter1/sequencing/sequencing_working_split_7.csv')\n",
    "seq_8 = pd.read_csv('/media/olafsson/Jupyter1/sequencing/sequencing_working_split_8.csv')\n",
    "seq_9 = pd.read_csv('/media/olafsson/Jupyter1/sequencing/sequencing_working_split_9.csv')\n",
    "seq_all = pd.concat([seq_0, seq_1, seq_2, seq_3, seq_4, seq_5, seq_6, seq_7, seq_8, seq_9], axis=0)"
   ]
  },
  {
   "cell_type": "code",
   "execution_count": null,
   "id": "5090df56",
   "metadata": {},
   "outputs": [],
   "source": [
    "grna_df = pd.read_csv('/media/olafsson/Jupyter1/sequencing/orig/grna_sublibrary.csv')\n",
    "all_df, high_df, low_df = process_barecodes(seq_all)"
   ]
  },
  {
   "cell_type": "code",
   "execution_count": null,
   "id": "bccc6b65",
   "metadata": {},
   "outputs": [],
   "source": [
    "all_df = find_grna(df=all_df, grna_df=grna_df)\n",
    "high_df = find_grna(df=high_df, grna_df=grna_df)\n",
    "low_df = find_grna(df=low_df, grna_df=grna_df)\n",
    "all_df = translate_barecodes(all_df, grna_df)\n",
    "high_df = translate_barecodes(high_df, grna_df)\n",
    "low_df = translate_barecodes(low_df, grna_df)"
   ]
  },
  {
   "cell_type": "code",
   "execution_count": null,
   "id": "48fa4e08",
   "metadata": {},
   "outputs": [],
   "source": [
    "temp = all_df[all_df['count']>=100]\n",
    "print(len(all_df), len(temp))\n",
    "temp = temp[temp['grna']!='error']\n",
    "unique_palte = temp['plate'].value_counts()\n",
    "unique_row = temp['row'].value_counts()\n",
    "unique_col = temp['col'].value_counts()\n",
    "print(unique_palte)\n",
    "print(unique_row)\n",
    "print(unique_col)\n",
    "temp\n",
    "# aa, tt, cc, gg, at, ta, cg, gc"
   ]
  },
  {
   "cell_type": "code",
   "execution_count": null,
   "id": "eb887e7e",
   "metadata": {},
   "outputs": [],
   "source": [
    "temp.to_csv('/mnt/data/CellVoyager/20x/tsg101/crispr_screen/all/measurements/sequencing.csv', index=True)"
   ]
  },
  {
   "cell_type": "code",
   "execution_count": null,
   "id": "eee35675",
   "metadata": {},
   "outputs": [],
   "source": [
    "temp = high_df[high_df['count']>=100]\n",
    "unique_palte = temp['plate'].value_counts()\n",
    "unique_row = temp['row'].value_counts()\n",
    "unique_col = temp['col'].value_counts()\n",
    "print(unique_palte)\n",
    "print(unique_row)\n",
    "print(unique_col)\n",
    "temp\n",
    "# aa, tt, cc, gg, at, ta, cg, gc"
   ]
  },
  {
   "cell_type": "code",
   "execution_count": null,
   "id": "a5d27262",
   "metadata": {},
   "outputs": [],
   "source": [
    "test_error(all_df,min_=25,max_=100)\n",
    "test_error(low_df,min_=25,max_=100)\n",
    "test_error(high_df,min_=25,max_=100)"
   ]
  },
  {
   "cell_type": "code",
   "execution_count": null,
   "id": "7ba64bcb",
   "metadata": {},
   "outputs": [],
   "source": [
    "new_reads_loc = '/media/olafsson/Jupyter1/sequencing/reads_new.csv'\n",
    "all_df.to_csv(new_reads_loc, index=False, header=True)"
   ]
  },
  {
   "cell_type": "code",
   "execution_count": null,
   "id": "70b6c0cb",
   "metadata": {},
   "outputs": [],
   "source": [
    "min_count = 25\n",
    "feature_data = pd.read_csv('/media/olafsson/Data2/methods_paper/data/cell_features.csv')\n",
    "resnet_loc = '/media/olafsson/Data2/methods_paper/torch_models/new_train/aug/erm/resnet50/139_model98.0230508_.pth_result.csv'\n",
    "merged_df, well = preprocess_image_data(df=feature_data, resnet_loc=resnet_loc, min_count=min_count, metric='mean', plot=True, score='pc_score')"
   ]
  },
  {
   "cell_type": "code",
   "execution_count": null,
   "id": "01179c8e",
   "metadata": {},
   "outputs": [],
   "source": [
    "df = all_df.copy()\n",
    "print('1',len(df))\n",
    "#df['plate'] = df['plate'].replace({'p8': 'p4', 'p4': 'p8'})\n",
    "#df['prc'] = df['plate']+'_'+df['row']+'_'+df['col']\n",
    "\n",
    "gene_column = 'grna'\n",
    "df = df[df['col'] != 'c1']\n",
    "df = df[df['col'] != 'c2']\n",
    "df = df[df['col'] != 'c3']\n",
    "df = df[df['col'] != 'c15']\n",
    "df = df[df['col'] != 'c12']\n",
    "\n",
    "print('2',len(df))\n",
    "\n",
    "df = df[~df.apply(lambda row: row.astype(str).str.contains('error').any(), axis=1)]\n",
    "print('3',len(df))\n",
    "plates = ['p1','p2','p3','p4']\n",
    "df = df[df['plate'].isin(plates)]\n",
    "print('4',len(df))\n",
    "multi_target_grnas = pd.read_csv('/media/olafsson/Jupyter1/sequencing/orig/gRNAs_multitargets_Sublibrary1.csv')\n",
    "mtg = multi_target_grnas['gene'].tolist()\n",
    "df = df[~df['gene'].isin(mtg)]\n",
    "df = df[df['count']>=25]\n",
    "\n",
    "g14 = df[df['gene'].str.contains('239740')]\n",
    "r18 = df[df['gene'].str.contains('205250')]\n",
    "\n",
    "#gra14_wells = g14['prc'].unique().tolist()\n",
    "#df = df[df['prc'].isin(gra14_wells)]\n",
    "print('5',len(df))\n",
    "\n",
    "print('screen coverage', len(df), len(df)/(4*384))\n",
    "\n",
    "independent_variables = generate_fraction_map(df=df, gene_column=gene_column,  min_=0.05, metric='fraction', plot=True)\n",
    "\n",
    "iv_col_loc = '/media/olafsson/Data2/methods_paper/data/iv_col.csv'\n",
    "all_df.to_csv(iv_col_loc)\n",
    "\n",
    "iv_loc = '/media/olafsson/Data2/methods_paper/data/iv.csv'\n",
    "independent_variables.to_csv(iv_loc)\n",
    "\n",
    "iv_loc = '/media/olafsson/Data2/methods_paper/data/iv.csv'\n",
    "dv_loc = '/media/olafsson/Data2/methods_paper/data/dv.csv'\n",
    "df, res = mixed_model(iv_loc,dv_loc)\n",
    "print(res)\n",
    "hits = df[df['P>|z|']<=0.05]\n",
    "low_hits = hits[hits['Coef.']<=-0.25]\n",
    "high_hits = hits[hits['Coef.']>=0.25]\n",
    "high_hits"
   ]
  },
  {
   "cell_type": "code",
   "execution_count": null,
   "id": "0fe08cb0",
   "metadata": {},
   "outputs": [],
   "source": [
    "fig, ax = plt.subplots(1,2,figsize=(10,5))\n",
    "for i,val in enumerate(low_ls):\n",
    "    temp = merged_df[merged_df['prc']==val]\n",
    "    sns.histplot(data=temp, x='recruitment', kde=False, stat='density', binwidth=0.1,element=\"step\", ax=ax[0], color='teal', log_scale=False)\n",
    "    sns.histplot(data=temp, x='pc_score', kde=False, stat='density', binwidth=0.1,element=\"step\", ax=ax[1], color='teal', log_scale=False)\n",
    "    #sns.kdeplot(data=temp, x='recruitment', ax=ax[0], color='teal')\n",
    "    #sns.kdeplot(data=temp, x='pc_score', ax=ax[1], color='teal')\n",
    "    #ax.set_xscale('log')\n",
    "    ax[0].set_title('Low resnet score')\n",
    "    ax[0].spines['top'].set_visible(False)\n",
    "    ax[0].spines['right'].set_visible(False)\n",
    "    ax[0].set_xlim([0, 4])\n",
    "    ax[1].spines['top'].set_visible(False)\n",
    "    ax[1].spines['right'].set_visible(False)\n",
    "    ax[1].set_xlim([0, 1])"
   ]
  },
  {
   "cell_type": "code",
   "execution_count": null,
   "id": "476d287d",
   "metadata": {},
   "outputs": [],
   "source": [
    "#define function to calculate Gini coefficient\n",
    "def gini(x):\n",
    "    #0 represents perfect income equality (everyone has the same income)\n",
    "    #1 represents perfect income inequality (one individual has all the income)\n",
    "    total = 0\n",
    "    for i, xi in enumerate(x[:-1], 1):\n",
    "        total += np.sum(np.abs(xi - x[i:]))\n",
    "    return total / (len(x)**2 * np.mean(x))\n",
    "\n",
    "df = all_df.copy()\n",
    "df = df[~df.apply(lambda row: row.astype(str).str.contains('error').any(), axis=1)]\n",
    "df = df[df['count']>=25]\n",
    "prc_ls = []\n",
    "gini_ls = []\n",
    "for i,val in enumerate(df['prc'].unique().tolist()):\n",
    "    temp = df[df['prc']==val]\n",
    "    x=temp['count'].to_numpy()\n",
    "    gini_val = gini(x)\n",
    "    prc_ls.append(val)\n",
    "    gini_ls.append(gini_val)\n",
    "gini_df = pd.DataFrame()\n",
    "gini_df['prc'] = prc_ls\n",
    "gini_df['gini'] = gini_ls\n",
    "gini_df = gini_df[gini_df['gini']>0]\n",
    "balanced_wells = gini_df['prc'].unique().tolist()\n",
    "gini_df = gini_df.sort_values(by = ['gini'], ascending = [True], na_position = 'first')\n",
    "fig, ax = plt.subplots(1,2,figsize=(10,5))\n",
    "sns.histplot(data=gini_df, x='gini', kde=False, stat='count', binwidth=0.01,element=\"step\", ax=ax[0], color='teal', log_scale=False)"
   ]
  },
  {
   "cell_type": "code",
   "execution_count": null,
   "id": "ea6ee379",
   "metadata": {},
   "outputs": [],
   "source": [
    "df = all_df.copy()\n",
    "\n",
    "print('1',len(df))\n",
    "#df['plate'] = df['plate'].replace({'p1': 'p4', 'p4': 'p1'})\n",
    "#df['prc'] = df['plate']+'_'+df['row']+'_'+df['col']\n",
    "\n",
    "gene_column = 'gene'\n",
    "df = df[df['col'] != 'c1']\n",
    "df = df[df['col'] != 'c2']\n",
    "df = df[df['col'] != 'c3']\n",
    "df = df[df['col'] != 'c15']\n",
    "df = df[df['col'] != 'c12']\n",
    "\n",
    "print('2',len(df))\n",
    "\n",
    "df = df[~df.apply(lambda row: row.astype(str).str.contains('error').any(), axis=1)]\n",
    "print('3',len(df))\n",
    "plates = ['p1','p2','p3','p4']\n",
    "df = df[df['plate'].isin(plates)]\n",
    "df = df[df['prc'].isin(balanced_wells)]\n",
    "\n",
    "multi_target_grnas = pd.read_csv('/media/olafsson/Jupyter1/sequencing/orig/gRNAs_multitargets_Sublibrary1.csv')\n",
    "mtg = multi_target_grnas['gene'].tolist()\n",
    "df = df[~df['gene'].isin(mtg)]\n",
    "\n",
    "gra14_wells = g14['prc'].unique().tolist()\n",
    "df = df[df['prc'].isin(gra14_wells)]\n",
    "\n",
    "print('4',len(df))\n",
    "g14 = df[df['gene'].str.contains('239740')]\n",
    "r18 = df[df['gene'].str.contains('205250')]\n",
    "\n",
    "print('5',len(df))\n",
    "\n",
    "print('screen coverage', len(df), len(df)/(4*384))\n",
    "df = df[df['count']>=50]\n",
    "independent_variables = generate_fraction_map(df=df, gene_column=gene_column,  min_=0.05, metric='fraction', plot=True)\n",
    "\n",
    "iv_col_loc = '/media/olafsson/Data2/methods_paper/data/iv_col.csv'\n",
    "all_df.to_csv(iv_col_loc)\n",
    "\n",
    "iv_loc = '/media/olafsson/Data2/methods_paper/data/iv.csv'\n",
    "independent_variables.to_csv(iv_loc)\n",
    "\n",
    "iv_loc = '/media/olafsson/Data2/methods_paper/data/iv.csv'\n",
    "dv_loc = '/media/olafsson/Data2/methods_paper/data/dv.csv'\n",
    "\n",
    "df, res = reg_model(iv_loc, dv_loc)\n",
    "\n",
    "hits = df[df['P>|t|']<=0.05]\n",
    "low_hits = hits[hits['coef']<=-0.25]\n",
    "high_hits = hits[hits['coef']>=0.25]\n",
    "high_hits"
   ]
  },
  {
   "cell_type": "code",
   "execution_count": null,
   "id": "b6d08a1b",
   "metadata": {},
   "outputs": [],
   "source": []
  },
  {
   "cell_type": "code",
   "execution_count": null,
   "id": "49aa92f4",
   "metadata": {},
   "outputs": [],
   "source": []
  },
  {
   "cell_type": "code",
   "execution_count": null,
   "id": "b6f5e50b",
   "metadata": {},
   "outputs": [],
   "source": []
  },
  {
   "cell_type": "code",
   "execution_count": null,
   "id": "452840ca",
   "metadata": {},
   "outputs": [],
   "source": []
  }
 ],
 "metadata": {
  "kernelspec": {
   "display_name": "spacr",
   "language": "python",
   "name": "spacr"
  },
  "language_info": {
   "codemirror_mode": {
    "name": "ipython",
    "version": 3
   },
   "file_extension": ".py",
   "mimetype": "text/x-python",
   "name": "python",
   "nbconvert_exporter": "python",
   "pygments_lexer": "ipython3",
   "version": "3.9.18"
  }
 },
 "nbformat": 4,
 "nbformat_minor": 5
}
