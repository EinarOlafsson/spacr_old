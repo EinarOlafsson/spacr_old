{
 "cells": [
  {
   "cell_type": "code",
   "execution_count": null,
   "id": "800a4c59",
   "metadata": {},
   "outputs": [],
   "source": [
    "import requests\n",
    "url2 = 'https://raw.githubusercontent.com/EinarOlafsson/spacr/main/code/spacr_make_masks_tkinter.py'\n",
    "response2 = requests.get(url2)\n",
    "with open('spacr_make_masks_tkinter.py', 'w') as file:\n",
    "    file.write(response2.text)\n",
    "import spacr_make_masks_tkinter as spacr"
   ]
  },
  {
   "cell_type": "code",
   "execution_count": null,
   "id": "658aa8e1",
   "metadata": {},
   "outputs": [],
   "source": [
    "# Folder path, scale factor, and window size as arguments\n",
    "root = spacr.tk.Tk()\n",
    "folder_path = \"path\"\n",
    "scale_factor = 1\n",
    "width, height = 1900,1900\n",
    "\n",
    "if folder_path:\n",
    "    app = spacr.modify_masks(root, folder_path, scale_factor, width, height)\n",
    "    root.mainloop()"
   ]
  }
 ],
 "metadata": {
  "kernelspec": {
   "display_name": "Python 3 (ipykernel)",
   "language": "python",
   "name": "python3"
  },
  "language_info": {
   "codemirror_mode": {
    "name": "ipython",
    "version": 3
   },
   "file_extension": ".py",
   "mimetype": "text/x-python",
   "name": "python",
   "nbconvert_exporter": "python",
   "pygments_lexer": "ipython3",
   "version": "3.9.7"
  }
 },
 "nbformat": 4,
 "nbformat_minor": 5
}
