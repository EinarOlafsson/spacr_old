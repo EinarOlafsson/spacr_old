{
 "cells": [
  {
   "cell_type": "code",
   "execution_count": null,
   "id": "e0ab70c9",
   "metadata": {
    "scrolled": false
   },
   "outputs": [],
   "source": [
    "import requests\n",
    "url1 = 'https://raw.githubusercontent.com/EinarOlafsson/spacr/main/code/spacr_finetune_cellpose.py'\n",
    "response1 = requests.get(url1)\n",
    "with open('spacr_finetune_cellpose.py', 'w') as file:\n",
    "    file.write(response1.text)\n",
    "import spacr_finetune_cellpose as spacr"
   ]
  },
  {
   "cell_type": "code",
   "execution_count": null,
   "id": "4f9c0c3a",
   "metadata": {},
   "outputs": [],
   "source": [
    "folders = ['path','path'...]\n",
    "dst = 'path'\n",
    "min_objects=5\n",
    "\n",
    "spacr.generate_cellpose_train_set(folders, dst, min_objects=5)"
   ]
  },
  {
   "cell_type": "code",
   "execution_count": null,
   "id": "2e3e6f79",
   "metadata": {
    "scrolled": true
   },
   "outputs": [],
   "source": [
    "# Paths to your image directory\n",
    "src = 'path'\n",
    "spacr.generate_cp_masks(src,\n",
    "                        model_name='cyto',\n",
    "                        channels=[0,0],\n",
    "                        diameter=30.0,\n",
    "                        regex='plate',\n",
    "                        flow_threshold=30,\n",
    "                        cellprob_threshold=0,\n",
    "                        figuresize=25,\n",
    "                        cmap='inferno',\n",
    "                        verbose=False,\n",
    "                        plot=False,\n",
    "                        save=True,\n",
    "                        custom_model=None, # or path to CP model\n",
    "                        signal_thresholds=1000)"
   ]
  },
  {
   "cell_type": "code",
   "execution_count": null,
   "id": "dd35efb4",
   "metadata": {},
   "outputs": [],
   "source": [
    "# Paths to your image and mask directories\n",
    "img_src = 'path'\n",
    "mask_src = 'path'\n",
    "\n",
    "spacr.train_cellpose(img_src,\n",
    "                     mask_src,\n",
    "                     secondary_image_dir=None,\n",
    "                     model_name='toxopv',\n",
    "                     model_type='cyto',\n",
    "                     channels=[0, 0],\n",
    "                     learning_rate=0.2,\n",
    "                     weight_decay=1e-05,\n",
    "                     batch_size=24,\n",
    "                     n_epochs=500,\n",
    "                     signal_thresholds=1000,\n",
    "                     verbose=True)"
   ]
  },
  {
   "cell_type": "code",
   "execution_count": null,
   "id": "52473b91",
   "metadata": {
    "scrolled": false
   },
   "outputs": [],
   "source": [
    "# Example usage\n",
    "dir1 = 'path to ground truth'\n",
    "dir2 = 'path'\n",
    "dir3 = 'path'\n",
    "\n",
    "comparison_results, fig = spacr.compare_masks(dir1, dir2, dir3, verbose=False)"
   ]
  }
 ],
 "metadata": {
  "kernelspec": {
   "display_name": "spacr_finetune_cellpose",
   "language": "python",
   "name": "spacr_finetune_cellpose"
  },
  "language_info": {
   "codemirror_mode": {
    "name": "ipython",
    "version": 3
   },
   "file_extension": ".py",
   "mimetype": "text/x-python",
   "name": "python",
   "nbconvert_exporter": "python",
   "pygments_lexer": "ipython3",
   "version": "3.9.18"
  }
 },
 "nbformat": 4,
 "nbformat_minor": 5
}
