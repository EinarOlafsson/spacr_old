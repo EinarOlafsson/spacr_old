{
 "cells": [
  {
   "cell_type": "code",
   "execution_count": null,
   "id": "81b8438d",
   "metadata": {},
   "outputs": [],
   "source": [
    "import requests\n",
    "\n",
    "url = 'https://raw.githubusercontent.com/EinarOlafsson/spacr/main/spacr_classification.py'\n",
    "response = requests.get(url)\n",
    "with open('spacr_classification.py', 'w') as file:\n",
    "    file.write(response.text)\n",
    "    \n",
    "import spacr_classification as spacr"
   ]
  },
  {
   "cell_type": "code",
   "execution_count": null,
   "id": "a2c65d95",
   "metadata": {},
   "outputs": [],
   "source": [
    "# Generate a tar file containing all images in the database (this can be very slow for large datasets)\n",
    "\n",
    "src = 'path'\n",
    "spacr.generate_dataset(db_path=src+'/measurements/measurements.db',\n",
    "                       dst='path',\n",
    "                       file_type='cell_png',\n",
    "                       experiment='test', \n",
    "                       sample=20)"
   ]
  },
  {
   "cell_type": "code",
   "execution_count": null,
   "id": "45e9831b",
   "metadata": {
    "scrolled": false
   },
   "outputs": [],
   "source": [
    "# Generate train and test folders with class subfolders for training DL models.\n",
    "\n",
    "src = '/mnt5/einar/cellvoyager/40x/test2/plate1'\n",
    "spacr.generate_training_dataset(db_path=src+'/measurements/measurements.db',\n",
    "                                dst='path',\n",
    "                                mode='annotation', # annotation, recruitment or metadata\n",
    "                                annotation_column='test', # for annotation\n",
    "                                annotated_classes=[1,2], # for annotation\n",
    "                                classes=['nc','pc'], # for annotation\n",
    "                                size=20, # number of images per class\n",
    "                                test_split=0.1,\n",
    "                                metadata_type_by='col',\n",
    "                                class_metadata=[['c2','c4','c6'],['c22','c23','c3']], # for metadata\n",
    "                                channel_of_interest=3) # for recruitment"
   ]
  },
  {
   "cell_type": "code",
   "execution_count": null,
   "id": "3051e38f",
   "metadata": {},
   "outputs": [],
   "source": [
    "#Train a torch model to classify images. If test is True, a model will be tested on the test set (generated in preveous steps)\n",
    "\n",
    "src = 'path'\n",
    "settings = {'train':True,\n",
    "            'test': False,\n",
    "            'classes':['nc','pc'],\n",
    "            'model_type':'maxvit_t',\n",
    "            'optimizer_type':'adamw',\n",
    "            'schedule':'reduce_lr_on_plateau', #reduce_lr_on_plateau, step_lr\n",
    "            'loss_type':'focal_loss', #binary_cross_entropy_with_logits, #focal_loss\n",
    "            'normalize':True,\n",
    "            'image_size':224,\n",
    "            'batch_size':12,\n",
    "            'epochs':2,\n",
    "            'val_split':0.1,\n",
    "            'train_mode':'erm',\n",
    "            'learning_rate':0.0001,\n",
    "            'weight_decay':0.00001,\n",
    "            'dropout_rate':0.1,\n",
    "            'init_weights':True,\n",
    "            'amsgrad':True,\n",
    "            'use_checkpoint':True,\n",
    "            'gradient_accumulation':True,\n",
    "            'gradient_accumulation_steps':4,\n",
    "            'intermedeate_save':True,\n",
    "            'pin_memory':True,\n",
    "            'num_workers':30,\n",
    "            'verbose':True}\n",
    "\n",
    "spacr.train_test_model(src, settings)"
   ]
  },
  {
   "cell_type": "code",
   "execution_count": null,
   "id": "1ccff8bb",
   "metadata": {},
   "outputs": [],
   "source": [
    "#\n",
    "\n",
    "result_df = spacr.apply_model_to_tar(tar_path='path', \n",
    "                                     model_path='path', #this model is trained on nc vs pc, cells filtered on cell size, parasite size and recruitment >2 for nc and <2 for pc\n",
    "                                     file_type='cell_png',\n",
    "                                     image_size=224,\n",
    "                                     batch_size=12,\n",
    "                                     normalize=True,\n",
    "                                     preload='images',\n",
    "                                     num_workers=30,\n",
    "                                     verbose=True)"
   ]
  },
  {
   "cell_type": "code",
   "execution_count": null,
   "id": "7cd5715e",
   "metadata": {},
   "outputs": [],
   "source": [
    "#\n",
    "\n",
    "src = 'path'\n",
    "res_df = spacr.merge_pred_mes(src,\n",
    "                              pred_loc='path',\n",
    "                              target='protein', \n",
    "                              nucleus_dim=0, \n",
    "                              parasite_dim=2,\n",
    "                              cell_dim=3, \n",
    "                              channel_of_interest=1,\n",
    "                              parasite_size_min=0, \n",
    "                              nucleus_size_min=0,\n",
    "                              cell_size_min=0,\n",
    "                              parasite_min=0,\n",
    "                              nucleus_min=0, \n",
    "                              cell_min=0,\n",
    "                              target_min=0,\n",
    "                              mask_chans=[0,1,2],\n",
    "                              filter_data=False,\n",
    "                              include_noninfected=False,\n",
    "                              include_multiinfected=True, #bool or int\n",
    "                              include_multinucleated=True,\n",
    "                              cells_per_well=0,\n",
    "                              save_filtered_filelist=False,\n",
    "                              verbose=True)\n",
    "\n",
    "dv_loc = src+'/measurements/'\n",
    "spacr.generate_dependent_variable(df=res_df, \n",
    "                                  dv_loc=dv_loc, \n",
    "                                  pc_min=0.99, \n",
    "                                  nc_max=0.95, \n",
    "                                  agg_type='mean')"
   ]
  },
  {
   "cell_type": "code",
   "execution_count": null,
   "id": "235cd3ef",
   "metadata": {},
   "outputs": [],
   "source": [
    "#\n",
    "\n",
    "coeffs = spacr.analyze_data_reg(sequencing_loc='path', \n",
    "                               dv_loc='path', \n",
    "                               dv_col = 'recruitment',\n",
    "                               agg_type = 'mean',\n",
    "                               transform='log',\n",
    "                               min_cell_count=100, \n",
    "                               min_reads=75,\n",
    "                               min_wells=1, \n",
    "                               max_wells=50,\n",
    "                               min_frequency=0.05,\n",
    "                               remove_outlier_genes=False, \n",
    "                               refine_model=True,\n",
    "                               by_plate=False, \n",
    "                               regression_type='lasso',\n",
    "                               alpha_value=0.000001,\n",
    "                               fishers=True,\n",
    "                               fisher_threshold=1.3)"
   ]
  }
 ],
 "metadata": {
  "kernelspec": {
   "display_name": "spacr",
   "language": "python",
   "name": "spacr"
  },
  "language_info": {
   "codemirror_mode": {
    "name": "ipython",
    "version": 3
   },
   "file_extension": ".py",
   "mimetype": "text/x-python",
   "name": "python",
   "nbconvert_exporter": "python",
   "pygments_lexer": "ipython3",
   "version": "3.9.18"
  }
 },
 "nbformat": 4,
 "nbformat_minor": 5
}
