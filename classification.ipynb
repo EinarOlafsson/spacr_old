{
 "cells": [
  {
   "cell_type": "code",
   "execution_count": null,
   "id": "81b8438d",
   "metadata": {},
   "outputs": [],
   "source": [
    "import requests\n",
    "\n",
    "url = 'https://raw.githubusercontent.com/EinarOlafsson/spacr/main/spacr_classification.py'\n",
    "response = requests.get(url)\n",
    "with open('spacr_classification.py', 'w') as file:\n",
    "    file.write(response.text)\n",
    "    \n",
    "import spacr_classification as spacr"
   ]
  },
  {
   "cell_type": "code",
   "execution_count": null,
   "id": "a2c65d95",
   "metadata": {},
   "outputs": [],
   "source": [
    "src = 'path'\n",
    "spacr.generate_dataset(db_path=src+'/measurements/measurements.db',\n",
    "                       dst='',\n",
    "                       file_type='cell_png',\n",
    "                       experiment='exp', \n",
    "                       sample=None)"
   ]
  },
  {
   "cell_type": "code",
   "execution_count": null,
   "id": "3051e38f",
   "metadata": {},
   "outputs": [],
   "source": [
    "settings = {'train':True,\n",
    "            'test': False,\n",
    "            'classes':['nc','pc'],\n",
    "            'model_type':'maxvit_t',\n",
    "            'optimizer_type':'adamw',\n",
    "            'schedule':'reduce_lr_on_plateau', #reduce_lr_on_plateau, step_lr\n",
    "            'loss_type':'focal_loss', #binary_cross_entropy_with_logits, #focal_loss\n",
    "            'normalize':True,\n",
    "            'image_size':224,\n",
    "            'batch_size':64,\n",
    "            'epochs':100,\n",
    "            'val_split':0.1,\n",
    "            'train_mode':'erm',\n",
    "            'learning_rate':0.0001,\n",
    "            'weight_decay':0.00001,\n",
    "            'dropout_rate':0.1,\n",
    "            'init_weights':True,\n",
    "            'amsgrad':True,\n",
    "            'use_checkpoint':True,\n",
    "            'gradient_accumulation':True,\n",
    "            'gradient_accumulation_steps':4,\n",
    "            'intermedeate_save':True,\n",
    "            'pin_memory':True,\n",
    "            'num_workers':30,\n",
    "            'verbose':True}\n",
    "\n",
    "model_path = 'path', #if using a custom trained model\n",
    "model = torch.load(model_path) #if using a custom trained model\n",
    "src = 'path'\n",
    "\n",
    "spacr.train_test_model(src, settings, model=None)"
   ]
  },
  {
   "cell_type": "code",
   "execution_count": null,
   "id": "1ccff8bb",
   "metadata": {},
   "outputs": [],
   "source": [
    "result_df = spacr.apply_model_to_tar(tar_path='path', \n",
    "                                     model_path='path', #this model is trained on nc vs pc, cells filtered on cell size, parasite size and recruitment >2 for nc and <2 for pc\n",
    "                                     file_type='cell_png',\n",
    "                                     image_size=224,\n",
    "                                     batch_size=64,\n",
    "                                     normalize=True,\n",
    "                                     preload='images',\n",
    "                                     num_workers=30,\n",
    "                                     verbose=True)"
   ]
  },
  {
   "cell_type": "code",
   "execution_count": null,
   "id": "7cd5715e",
   "metadata": {},
   "outputs": [],
   "source": [
    "res_df = spacr.merge_pred_mes(src='path',\n",
    "                        pred_loc='path',\n",
    "                        target='protein', \n",
    "                        nucleus_dim=0, \n",
    "                        parasite_dim=2,\n",
    "                        cell_dim=3, \n",
    "                        channel_of_interest=1,\n",
    "                        parasite_size_min=0, \n",
    "                        nucleus_size_min=0,\n",
    "                        cell_size_min=0,\n",
    "                        parasite_min=0,\n",
    "                        nucleus_min=0, \n",
    "                        cell_min=0,\n",
    "                        target_min=0,\n",
    "                        mask_chans=[0,1,2],\n",
    "                        filter_data=False,\n",
    "                        include_noninfected=False,\n",
    "                        include_multiinfected=True, #bool or int\n",
    "                        include_multinucleated=True,\n",
    "                        cells_per_well=0,\n",
    "                        save_filtered_filelist=False,\n",
    "                        verbose=True)"
   ]
  },
  {
   "cell_type": "code",
   "execution_count": null,
   "id": "470d0aef",
   "metadata": {},
   "outputs": [],
   "source": [
    "src = 'path'\n",
    "dv_loc = src+'/measurements/'\n",
    "spacr.generate_dependent_variable(df=res_df, \n",
    "                                  dv_loc=dv_loc, \n",
    "                                  pc_min=0.99, \n",
    "                                  nc_max=0.95, \n",
    "                                  agg_type='mean')"
   ]
  },
  {
   "cell_type": "code",
   "execution_count": null,
   "id": "235cd3ef",
   "metadata": {},
   "outputs": [],
   "source": [
    "coeffs = spacr.analyze_data_reg(sequencing_loc='path', \n",
    "                               dv_loc='path', \n",
    "                               dv_col = 'recruitment',\n",
    "                               agg_type = 'mean',\n",
    "                               transform='log',\n",
    "                               min_cell_count=100, \n",
    "                               min_reads=75,\n",
    "                               min_wells=1, \n",
    "                               max_wells=50,\n",
    "                               min_frequency=0.05,\n",
    "                               remove_outlier_genes=False, \n",
    "                               refine_model=True,\n",
    "                               by_plate=False, \n",
    "                               regression_type='lasso',\n",
    "                               alpha_value=0.000001,\n",
    "                               fishers=True,\n",
    "                               fisher_threshold=1.3)"
   ]
  }
 ],
 "metadata": {
  "kernelspec": {
   "display_name": "spacr",
   "language": "python",
   "name": "spacr"
  },
  "language_info": {
   "codemirror_mode": {
    "name": "ipython",
    "version": 3
   },
   "file_extension": ".py",
   "mimetype": "text/x-python",
   "name": "python",
   "nbconvert_exporter": "python",
   "pygments_lexer": "ipython3",
   "version": "3.9.18"
  }
 },
 "nbformat": 4,
 "nbformat_minor": 5
}
